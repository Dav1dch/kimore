{
 "cells": [
  {
   "cell_type": "code",
   "execution_count": 14,
   "metadata": {},
   "outputs": [],
   "source": [
    "import numpy as np\n",
    "import os\n",
    "import random\n",
    "\n"
   ]
  },
  {
   "cell_type": "code",
   "execution_count": 15,
   "metadata": {},
   "outputs": [
    {
     "name": "stdout",
     "output_type": "stream",
     "text": [
      "415\n"
     ]
    }
   ],
   "source": [
    "pred_list = os.listdir('./pred/')\n",
    "gt_list = os.listdir('./gt/')\n",
    "\n",
    "pred_list.sort()\n",
    "gt_list.sort()\n",
    "pred_list = np.array(pred_list)\n",
    "gt_list = np.array(gt_list)\n",
    "\n",
    "train_index = random.sample(range(0, len(pred_list)), 360)\n",
    "val_index = list(set(range(0, len(pred_list))) - set(train_index))\n",
    "train_index.sort()\n",
    "val_index.sort()\n",
    "train_pred_list = pred_list[train_index]\n",
    "val_pred_list = pred_list[val_index]\n",
    "\n",
    "train_gt_list = gt_list[train_index]\n",
    "val_gt_list = gt_list[val_index]\n",
    "\n",
    "\n",
    "print(len(pred_list))"
   ]
  },
  {
   "cell_type": "code",
   "execution_count": 23,
   "metadata": {},
   "outputs": [
    {
     "name": "stdout",
     "output_type": "stream",
     "text": [
      "(257582, 12, 3)\n",
      "(38123, 12, 3)\n",
      "(38123, 12, 3)\n"
     ]
    }
   ],
   "source": [
    "train_pred = []\n",
    "for i in train_pred_list:\n",
    "    temp = np.load(os.path.join('./pred/', i)).reshape((-1, 12, 3))\n",
    "    train_pred.extend(temp)\n",
    "train_pred = np.array(train_pred)\n",
    "\n",
    "train_gt = []\n",
    "for i in train_gt_list:\n",
    "    temp = np.load(os.path.join('./gt/', i)).reshape((-1, 12, 3))\n",
    "    train_gt.extend(temp)\n",
    "train_gt = np.array(train_gt)\n",
    "print(train_gt.shape)\n",
    "\n",
    "val_pred = []\n",
    "for i in val_pred_list:\n",
    "    temp = np.load(os.path.join('./pred/', i)).reshape((-1, 12, 3))\n",
    "    val_pred.extend(temp)\n",
    "val_pred = np.array(val_pred)\n",
    "print(val_pred.shape)\n",
    "\n",
    "val_gt = []\n",
    "for i in val_gt_list:\n",
    "    temp = np.load(os.path.join('./gt/', i)).reshape((-1, 12, 3))\n",
    "    val_gt.extend(temp)\n",
    "val_gt = np.array(val_gt)\n",
    "print(val_gt.shape)"
   ]
  },
  {
   "cell_type": "code",
   "execution_count": null,
   "metadata": {},
   "outputs": [],
   "source": [
    "np.save('./train_pred.npy', train_pred)\n",
    "np.save('./train_gt.npy', train_gt)\n",
    "np.save('./val_pred.npy', val_pred)\n",
    "np.save('./val_gt.npy', val_gt)"
   ]
  }
 ],
 "metadata": {
  "kernelspec": {
   "display_name": "py38",
   "language": "python",
   "name": "python3"
  },
  "language_info": {
   "codemirror_mode": {
    "name": "ipython",
    "version": 3
   },
   "file_extension": ".py",
   "mimetype": "text/x-python",
   "name": "python",
   "nbconvert_exporter": "python",
   "pygments_lexer": "ipython3",
   "version": "3.8.16"
  },
  "orig_nbformat": 4
 },
 "nbformat": 4,
 "nbformat_minor": 2
}
